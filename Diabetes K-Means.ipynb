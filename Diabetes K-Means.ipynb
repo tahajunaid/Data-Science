{
 "cells": [
  {
   "cell_type": "code",
   "execution_count": 1,
   "metadata": {},
   "outputs": [],
   "source": [
    "import pandas as pd\n",
    "import numpy as np\n",
    "import matplotlib.pyplot as plt\n",
    "from kneed import KneeLocator\n",
    "from sklearn.preprocessing import LabelEncoder\n",
    "from sklearn.datasets import make_blobs\n",
    "from sklearn.cluster import KMeans\n",
    "from sklearn.metrics import silhouette_score\n",
    "from sklearn.preprocessing import StandardScaler"
   ]
  },
  {
   "cell_type": "code",
   "execution_count": 2,
   "metadata": {},
   "outputs": [],
   "source": [
    "df=pd.read_csv(\"diabetes-work.csv\")"
   ]
  },
  {
   "cell_type": "code",
   "execution_count": 3,
   "metadata": {
    "scrolled": true
   },
   "outputs": [
    {
     "data": {
      "text/html": [
       "<div>\n",
       "<style scoped>\n",
       "    .dataframe tbody tr th:only-of-type {\n",
       "        vertical-align: middle;\n",
       "    }\n",
       "\n",
       "    .dataframe tbody tr th {\n",
       "        vertical-align: top;\n",
       "    }\n",
       "\n",
       "    .dataframe thead th {\n",
       "        text-align: right;\n",
       "    }\n",
       "</style>\n",
       "<table border=\"1\" class=\"dataframe\">\n",
       "  <thead>\n",
       "    <tr style=\"text-align: right;\">\n",
       "      <th></th>\n",
       "      <th>Age</th>\n",
       "      <th>Sex</th>\n",
       "      <th>BMI</th>\n",
       "      <th>BP</th>\n",
       "      <th>Cholesterol</th>\n",
       "      <th>LDL</th>\n",
       "      <th>HDL</th>\n",
       "      <th>Triglycerides</th>\n",
       "      <th>Smoking</th>\n",
       "      <th>Alcohol</th>\n",
       "      <th>Family History of Diabetis</th>\n",
       "      <th>Heart Disease</th>\n",
       "      <th>FBS</th>\n",
       "    </tr>\n",
       "  </thead>\n",
       "  <tbody>\n",
       "    <tr>\n",
       "      <th>0</th>\n",
       "      <td>55</td>\n",
       "      <td>M</td>\n",
       "      <td>31.5</td>\n",
       "      <td>100.0</td>\n",
       "      <td>127.0</td>\n",
       "      <td>81.0</td>\n",
       "      <td>32.0</td>\n",
       "      <td>218.0</td>\n",
       "      <td>No</td>\n",
       "      <td>No</td>\n",
       "      <td>Father</td>\n",
       "      <td>No</td>\n",
       "      <td>123.0</td>\n",
       "    </tr>\n",
       "    <tr>\n",
       "      <th>1</th>\n",
       "      <td>41</td>\n",
       "      <td>M</td>\n",
       "      <td>22.5</td>\n",
       "      <td>110.0</td>\n",
       "      <td>186.0</td>\n",
       "      <td>165.0</td>\n",
       "      <td>40.0</td>\n",
       "      <td>256.0</td>\n",
       "      <td>No</td>\n",
       "      <td>No</td>\n",
       "      <td>Father</td>\n",
       "      <td>No</td>\n",
       "      <td>135.0</td>\n",
       "    </tr>\n",
       "    <tr>\n",
       "      <th>2</th>\n",
       "      <td>48</td>\n",
       "      <td>M</td>\n",
       "      <td>20.9</td>\n",
       "      <td>140.0</td>\n",
       "      <td>251.0</td>\n",
       "      <td>188.0</td>\n",
       "      <td>36.0</td>\n",
       "      <td>135.0</td>\n",
       "      <td>Occasional</td>\n",
       "      <td>Occasional</td>\n",
       "      <td>No</td>\n",
       "      <td>No</td>\n",
       "      <td>119.0</td>\n",
       "    </tr>\n",
       "    <tr>\n",
       "      <th>3</th>\n",
       "      <td>61</td>\n",
       "      <td>F</td>\n",
       "      <td>22.5</td>\n",
       "      <td>170.0</td>\n",
       "      <td>180.0</td>\n",
       "      <td>117.0</td>\n",
       "      <td>35.0</td>\n",
       "      <td>136.0</td>\n",
       "      <td>No</td>\n",
       "      <td>No</td>\n",
       "      <td>Sister, Brother</td>\n",
       "      <td>No</td>\n",
       "      <td>173.0</td>\n",
       "    </tr>\n",
       "    <tr>\n",
       "      <th>4</th>\n",
       "      <td>50</td>\n",
       "      <td>M</td>\n",
       "      <td>26</td>\n",
       "      <td>140.0</td>\n",
       "      <td>310.0</td>\n",
       "      <td>213.5</td>\n",
       "      <td>77.5</td>\n",
       "      <td>96.0</td>\n",
       "      <td>No</td>\n",
       "      <td>Occasional</td>\n",
       "      <td>Father</td>\n",
       "      <td>No</td>\n",
       "      <td>219.0</td>\n",
       "    </tr>\n",
       "  </tbody>\n",
       "</table>\n",
       "</div>"
      ],
      "text/plain": [
       "   Age Sex   BMI     BP  Cholesterol    LDL   HDL  Triglycerides     Smoking  \\\n",
       "0   55   M  31.5  100.0        127.0   81.0  32.0          218.0          No   \n",
       "1   41   M  22.5  110.0        186.0  165.0  40.0          256.0          No   \n",
       "2   48   M  20.9  140.0        251.0  188.0  36.0          135.0  Occasional   \n",
       "3   61   F  22.5  170.0        180.0  117.0  35.0          136.0          No   \n",
       "4   50   M    26  140.0        310.0  213.5  77.5           96.0          No   \n",
       "\n",
       "      Alcohol Family History of Diabetis Heart Disease    FBS  \n",
       "0          No                     Father            No  123.0  \n",
       "1          No                     Father            No  135.0  \n",
       "2  Occasional                         No            No  119.0  \n",
       "3          No            Sister, Brother            No  173.0  \n",
       "4  Occasional                     Father            No  219.0  "
      ]
     },
     "execution_count": 3,
     "metadata": {},
     "output_type": "execute_result"
    }
   ],
   "source": [
    "df.head(5)"
   ]
  },
  {
   "cell_type": "code",
   "execution_count": 4,
   "metadata": {},
   "outputs": [
    {
     "data": {
      "text/plain": [
       "(739, 13)"
      ]
     },
     "execution_count": 4,
     "metadata": {},
     "output_type": "execute_result"
    }
   ],
   "source": [
    "df.shape"
   ]
  },
  {
   "cell_type": "code",
   "execution_count": 5,
   "metadata": {
    "scrolled": true
   },
   "outputs": [
    {
     "data": {
      "text/plain": [
       "Age                            0\n",
       "Sex                            0\n",
       "BMI                           80\n",
       "BP                            18\n",
       "Cholesterol                    1\n",
       "LDL                            5\n",
       "HDL                            5\n",
       "Triglycerides                  2\n",
       "Smoking                        0\n",
       "Alcohol                        0\n",
       "Family History of Diabetis     0\n",
       "Heart Disease                  0\n",
       "FBS                            3\n",
       "dtype: int64"
      ]
     },
     "execution_count": 5,
     "metadata": {},
     "output_type": "execute_result"
    }
   ],
   "source": [
    "df.isnull().sum()"
   ]
  },
  {
   "cell_type": "code",
   "execution_count": 6,
   "metadata": {
    "scrolled": false
   },
   "outputs": [],
   "source": [
    "df=df.dropna()"
   ]
  },
  {
   "cell_type": "code",
   "execution_count": 7,
   "metadata": {},
   "outputs": [
    {
     "data": {
      "text/plain": [
       "Age                             int64\n",
       "Sex                            object\n",
       "BMI                            object\n",
       "BP                            float64\n",
       "Cholesterol                   float64\n",
       "LDL                           float64\n",
       "HDL                           float64\n",
       "Triglycerides                 float64\n",
       "Smoking                        object\n",
       "Alcohol                        object\n",
       "Family History of Diabetis     object\n",
       "Heart Disease                  object\n",
       "FBS                           float64\n",
       "dtype: object"
      ]
     },
     "execution_count": 7,
     "metadata": {},
     "output_type": "execute_result"
    }
   ],
   "source": [
    "df.dtypes"
   ]
  },
  {
   "cell_type": "code",
   "execution_count": 8,
   "metadata": {},
   "outputs": [],
   "source": [
    "labelencoder=LabelEncoder()\n",
    "df[\"Sex\"]=labelencoder.fit_transform(df[\"Sex\"])\n",
    "df[\"Smoking\"]=labelencoder.fit_transform(df[\"Smoking\"])\n",
    "df[\"Alcohol\"]=labelencoder.fit_transform(df[\"Alcohol\"])\n",
    "df[\"Family History of Diabetis\"]=labelencoder.fit_transform(df[\"Family History of Diabetis\"])\n",
    "df[\"Heart Disease\"]=labelencoder.fit_transform(df[\"Heart Disease\"])\n"
   ]
  },
  {
   "cell_type": "code",
   "execution_count": 9,
   "metadata": {
    "scrolled": true
   },
   "outputs": [
    {
     "data": {
      "text/plain": [
       "<class 'str'>    628\n",
       "Name: BMI, dtype: int64"
      ]
     },
     "execution_count": 9,
     "metadata": {},
     "output_type": "execute_result"
    }
   ],
   "source": [
    "df.BMI.map(type).value_counts()"
   ]
  },
  {
   "cell_type": "code",
   "execution_count": 10,
   "metadata": {},
   "outputs": [],
   "source": [
    "df.BMI = pd.to_numeric(df.BMI,errors='coerce')"
   ]
  },
  {
   "cell_type": "code",
   "execution_count": 11,
   "metadata": {},
   "outputs": [],
   "source": [
    "df = df.reset_index()\n",
    "df.drop(['BMI'],axis=1,inplace=True)"
   ]
  },
  {
   "cell_type": "code",
   "execution_count": 12,
   "metadata": {},
   "outputs": [],
   "source": [
    "scaler = StandardScaler()\n",
    "scaled_features = scaler.fit_transform(df)"
   ]
  },
  {
   "cell_type": "code",
   "execution_count": 13,
   "metadata": {},
   "outputs": [
    {
     "data": {
      "text/plain": [
       "array([[-1.76226142,  0.37961562, -2.84040673, -1.70228369, -1.33981453,\n",
       "        -0.72175763, -1.69291187,  0.94766298, -0.54183007, -0.59186338,\n",
       "        -1.15089582, -0.49170864, -0.5644723 ],\n",
       "       [-1.75755698, -0.94851034, -2.84040673, -1.10784744,  0.22005375,\n",
       "         1.6831134 , -0.43855168,  1.45707934, -0.54183007, -0.59186338,\n",
       "        -1.15089582, -0.49170864, -0.38837265],\n",
       "       [-1.75285254, -0.28444736, -2.84040673,  0.67546132,  1.9385527 ,\n",
       "         2.34158999, -1.06573178, -0.16500957,  0.31097515,  0.33504486,\n",
       "        -0.85096322, -0.49170864, -0.62317219],\n",
       "       [-1.74814811,  0.94881247, -4.58407773,  2.45877008,  0.06142308,\n",
       "         0.30890138, -1.2225268 , -0.15160388, -0.54183007, -0.59186338,\n",
       "        -0.77598008, -0.49170864,  0.16927626],\n",
       "       [-1.74344367, -0.09471508, -2.84040673,  0.67546132,  3.49842098,\n",
       "         3.07164013,  5.44126167, -0.68783161, -0.54183007,  0.33504486,\n",
       "        -1.15089582, -0.49170864,  0.84432494]])"
      ]
     },
     "execution_count": 13,
     "metadata": {},
     "output_type": "execute_result"
    }
   ],
   "source": [
    "scaled_features[:5]"
   ]
  },
  {
   "cell_type": "code",
   "execution_count": 14,
   "metadata": {},
   "outputs": [],
   "source": [
    "kmeans = KMeans(\n",
    "init=\"random\",\n",
    "n_clusters=3,\n",
    "n_init=10,\n",
    "max_iter=300,\n",
    "random_state=42\n",
    ")"
   ]
  },
  {
   "cell_type": "code",
   "execution_count": 15,
   "metadata": {},
   "outputs": [
    {
     "data": {
      "text/plain": [
       "KMeans(algorithm='auto', copy_x=True, init='random', max_iter=300, n_clusters=3,\n",
       "       n_init=10, n_jobs=None, precompute_distances='auto', random_state=42,\n",
       "       tol=0.0001, verbose=0)"
      ]
     },
     "execution_count": 15,
     "metadata": {},
     "output_type": "execute_result"
    }
   ],
   "source": [
    "kmeans.fit(scaled_features)"
   ]
  },
  {
   "cell_type": "code",
   "execution_count": 16,
   "metadata": {},
   "outputs": [
    {
     "data": {
      "text/plain": [
       "6534.009151376766"
      ]
     },
     "execution_count": 16,
     "metadata": {},
     "output_type": "execute_result"
    }
   ],
   "source": [
    "kmeans.inertia_"
   ]
  },
  {
   "cell_type": "code",
   "execution_count": 17,
   "metadata": {},
   "outputs": [
    {
     "data": {
      "text/plain": [
       "array([[-0.11199416, -0.10719747,  0.64693526, -0.0026653 , -0.03563385,\n",
       "        -0.14461119,  0.00398164,  0.28169989,  1.41625561,  1.481484  ,\n",
       "        -0.03502817, -0.11124485,  0.01625107],\n",
       "       [-0.05458066,  0.04454355, -0.16901335, -0.16265569, -0.53894996,\n",
       "        -0.50443099,  0.23285264, -0.27827049, -0.44889617, -0.48194157,\n",
       "        -0.05522859,  0.02938134, -0.09967081],\n",
       "       [ 0.20763585,  0.01461236, -0.27806094,  0.31191281,  1.05834592,\n",
       "         1.09367909, -0.44667826,  0.26830495, -0.45862956, -0.45621827,\n",
       "         0.13753415,  0.04720878,  0.17455567]])"
      ]
     },
     "execution_count": 17,
     "metadata": {},
     "output_type": "execute_result"
    }
   ],
   "source": [
    "kmeans.cluster_centers_"
   ]
  },
  {
   "cell_type": "code",
   "execution_count": 18,
   "metadata": {},
   "outputs": [
    {
     "data": {
      "text/plain": [
       "25"
      ]
     },
     "execution_count": 18,
     "metadata": {},
     "output_type": "execute_result"
    }
   ],
   "source": [
    "kmeans.n_iter_"
   ]
  },
  {
   "cell_type": "code",
   "execution_count": 19,
   "metadata": {},
   "outputs": [
    {
     "data": {
      "text/plain": [
       "array([1, 2, 2, 2, 2])"
      ]
     },
     "execution_count": 19,
     "metadata": {},
     "output_type": "execute_result"
    }
   ],
   "source": [
    "kmeans.labels_[:5]"
   ]
  },
  {
   "cell_type": "code",
   "execution_count": 20,
   "metadata": {},
   "outputs": [],
   "source": [
    "kmeans_kwargs = {\n",
    "\"init\": \"random\",\n",
    "\"n_init\": 10,\n",
    "\"max_iter\": 300,\n",
    "\"random_state\": 42,\n",
    "}\n",
    "\n",
    "# A list holds the SSE values for each k\n",
    "sse = []\n",
    "for k in range(1, 11):\n",
    "    kmeans = KMeans(n_clusters=k, **kmeans_kwargs)\n",
    "    kmeans.fit(scaled_features)\n",
    "    sse.append(kmeans.inertia_)"
   ]
  },
  {
   "cell_type": "code",
   "execution_count": 21,
   "metadata": {},
   "outputs": [
    {
     "data": {
      "image/png": "[encoded data removed]",
      "text/plain": [
       "<Figure size 432x288 with 1 Axes>"
      ]
     },
     "metadata": {},
     "output_type": "display_data"
    }
   ],
   "source": [
    "plt.style.use(\"fivethirtyeight\")\n",
    "plt.plot(range(1, 11), sse)\n",
    "plt.xticks(range(1, 11))\n",
    "plt.xlabel(\"Number of Clusters\")\n",
    "plt.ylabel(\"SSE\")\n",
    "plt.show()"
   ]
  },
  {
   "cell_type": "code",
   "execution_count": 22,
   "metadata": {},
   "outputs": [
    {
     "data": {
      "text/plain": [
       "4"
      ]
     },
     "execution_count": 22,
     "metadata": {},
     "output_type": "execute_result"
    }
   ],
   "source": [
    "kl = KneeLocator(range(1, 11), sse, curve=\"convex\", direction=\"decreasing\")\n",
    "\n",
    "kl.elbow"
   ]
  },
  {
   "cell_type": "markdown",
   "metadata": {},
   "source": [
    "## Visualize\n",
    "\n",
    "* Since we have more than three features, it is not possible to visualize the clusters as they have been formed. But can be visualized based on any 2 features on a 2D Plane. Select a and b values indicating the column numbers from the dataframe to visualize clusters based on any two features.(The column numbers start from 0)"
   ]
  },
  {
   "cell_type": "code",
   "execution_count": 30,
   "metadata": {},
   "outputs": [],
   "source": [
    "#Change the values of a and b to compare the visualization of different features\n",
    "a=5\n",
    "b=7"
   ]
  },
  {
   "cell_type": "code",
   "execution_count": 31,
   "metadata": {},
   "outputs": [],
   "source": [
    "kmeans = KMeans(\n",
    "init=\"random\",\n",
    "n_clusters=4,\n",
    "n_init=10,\n",
    "max_iter=300,\n",
    "random_state=42\n",
    ")\n",
    "kmeans.fit(scaled_features)\n",
    "y_kmeans = kmeans.fit_predict(scaled_features)"
   ]
  },
  {
   "cell_type": "code",
   "execution_count": 32,
   "metadata": {},
   "outputs": [],
   "source": [
    "X=df.values"
   ]
  },
  {
   "cell_type": "code",
   "execution_count": 33,
   "metadata": {
    "scrolled": false
   },
   "outputs": [
    {
     "data": {
      "image/png": "[encoded data removed]",
      "text/plain": [
       "<Figure size 432x288 with 1 Axes>"
      ]
     },
     "metadata": {},
     "output_type": "display_data"
    },
    {
     "data": {
      "image/png": "[encoded data removed]",
      "text/plain": [
       "<Figure size 432x288 with 1 Axes>"
      ]
     },
     "metadata": {},
     "output_type": "display_data"
    }
   ],
   "source": [
    "#Plot clusters\n",
    "plt.scatter(X[y_kmeans==0, a], X[y_kmeans==0, b], c='darkviolet', label ='Cluster 1')\n",
    "plt.scatter(X[y_kmeans==1, a], X[y_kmeans==1, b], c='red', label ='Cluster 2')\n",
    "plt.scatter(X[y_kmeans==2, a], X[y_kmeans==2, b], c='green', label ='Cluster 3')\n",
    "plt.scatter(X[y_kmeans==3, a], X[y_kmeans==3, b], c='orange', label ='Cluster 4')\n",
    "plt.title('Clusters: '+df.columns[a]+' vs '+df.columns[b])\n",
    "plt.xlabel(df.columns[a])\n",
    "plt.ylabel(df.columns[b])\n",
    "plt.legend()\n",
    "plt.show()\n",
    "\n",
    "#Plot the centroid.\n",
    "plt.scatter(kmeans.cluster_centers_[:, a], kmeans.cluster_centers_[:, b], s=300, c='dodgerblue', label = 'Centroids')\n",
    "plt.title('Centroids: '+df.columns[a]+' vs '+df.columns[b])\n",
    "plt.xlabel(df.columns[a])\n",
    "plt.ylabel(df.columns[b])\n",
    "plt.show()"
   ]
  },
  {
   "cell_type": "code",
   "execution_count": null,
   "metadata": {},
   "outputs": [],
   "source": []
  },
  {
   "cell_type": "code",
   "execution_count": null,
   "metadata": {},
   "outputs": [],
   "source": []
  }
 ],
 "metadata": {
  "kernelspec": {
   "display_name": "Python 3",
   "language": "python",
   "name": "python3"
  },
  "language_info": {
   "codemirror_mode": {
    "name": "ipython",
    "version": 3
   },
   "file_extension": ".py",
   "mimetype": "text/x-python",
   "name": "python",
   "nbconvert_exporter": "python",
   "pygments_lexer": "ipython3",
   "version": "3.7.6"
  }
 },
 "nbformat": 4,
 "nbformat_minor": 4
}
